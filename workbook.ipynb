{
 "cells": [
  {
   "cell_type": "markdown",
   "id": "fcfc6071",
   "metadata": {},
   "source": [
    "# Cybercrime Trend Analysis"
   ]
  },
  {
   "cell_type": "code",
   "execution_count": 1,
   "id": "d9005217",
   "metadata": {},
   "outputs": [],
   "source": [
    "# Imports\n",
    "\n",
    "import numpy as np \n",
    "import pandas as pd \n",
    "import matplotlib.pyplot as plt\n",
    "import seaborn as sns"
   ]
  },
  {
   "cell_type": "code",
   "execution_count": 2,
   "id": "9aabf689",
   "metadata": {},
   "outputs": [],
   "source": [
    "# Data Input\n",
    "motives2016 = pd.read_csv('motives/2016.csv')\n",
    "motives2017 = pd.read_csv('motives/2017.csv')\n",
    "motives2018 = pd.read_csv('motives/2018.csv')\n",
    "motives2019 = pd.read_csv('motives/2019.csv')\n",
    "motives2020 = pd.read_csv('motives/2020.csv')"
   ]
  },
  {
   "cell_type": "code",
   "execution_count": 3,
   "id": "0dfc8949",
   "metadata": {},
   "outputs": [
    {
     "data": {
      "text/plain": [
       "Index(['S. No. (Col.1)', 'Category (Col.2)', 'State/UT (Col.3)',\n",
       "       'Illegal Gain (Col.4)', 'Revenge (Col.5)',\n",
       "       'Insult to Modesty of Women (Col.6)', 'Extortion/ Blackmailing (Col.7)',\n",
       "       'Sexual Exploitation (Col.8)', 'Causing Disrepute (Col.9)',\n",
       "       'Inciting Hate Crimes against Community (Col.10)',\n",
       "       'Developing own Business/ Interest (Col.11)',\n",
       "       'Prank / Satisfaction of Gaining Control (Col.12)',\n",
       "       'Political Motives (Col.13)', 'Disrupt Public Services (Col.14)',\n",
       "       'Piracy (Col.15)', 'Steal Information for Espionage (Col.16)',\n",
       "       'Sale/ Purchase of Illegal Drugs/ Other Items (Col.17)',\n",
       "       'Serious Psychiatric Illness viz. Perversion, etc. (Col.18)',\n",
       "       'Inciting Hate Crimes against Country (Col.19)', 'Others (Col.20)',\n",
       "       'Total (Col.21) = (Items 1 to 20)'],\n",
       "      dtype='object')"
      ]
     },
     "execution_count": 3,
     "metadata": {},
     "output_type": "execute_result"
    }
   ],
   "source": [
    "motives2016.columns"
   ]
  }
 ],
 "metadata": {
  "kernelspec": {
   "display_name": "Python 3",
   "language": "python",
   "name": "python3"
  },
  "language_info": {
   "codemirror_mode": {
    "name": "ipython",
    "version": 3
   },
   "file_extension": ".py",
   "mimetype": "text/x-python",
   "name": "python",
   "nbconvert_exporter": "python",
   "pygments_lexer": "ipython3",
   "version": "3.9.6"
  }
 },
 "nbformat": 4,
 "nbformat_minor": 5
}
